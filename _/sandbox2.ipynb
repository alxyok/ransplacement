{
 "cells": [
  {
   "cell_type": "code",
   "execution_count": 1,
   "id": "4c8c8b49-4529-43cd-a37b-98536204990b",
   "metadata": {},
   "outputs": [],
   "source": [
    "from data import pointwise_dataset"
   ]
  },
  {
   "cell_type": "code",
   "execution_count": 10,
   "id": "c3717b53-c190-4c6c-a4aa-fb5fab4e0f4c",
   "metadata": {},
   "outputs": [],
   "source": [
    "tensors = pointwise_dataset()"
   ]
  },
  {
   "cell_type": "code",
   "execution_count": 11,
   "id": "c51a7411-58f3-4c70-bdfd-81441915632f",
   "metadata": {},
   "outputs": [
    {
     "data": {
      "text/plain": [
       "tuple"
      ]
     },
     "execution_count": 11,
     "metadata": {},
     "output_type": "execute_result"
    }
   ],
   "source": [
    "tensors"
   ]
  },
  {
   "cell_type": "code",
   "execution_count": 33,
   "id": "817cde35-daec-4420-b959-006bf9701e7a",
   "metadata": {},
   "outputs": [],
   "source": [
    "dataset = torch.utils.data.TensorDataset(*pointwise_dataset())"
   ]
  },
  {
   "cell_type": "code",
   "execution_count": 35,
   "id": "68231904-62b4-40a2-a0a4-541c33f2e90e",
   "metadata": {},
   "outputs": [
    {
     "data": {
      "text/plain": [
       "3"
      ]
     },
     "execution_count": 35,
     "metadata": {},
     "output_type": "execute_result"
    }
   ],
   "source": [
    "subdataset = dataset[:1000]\n",
    "len(subdataset)"
   ]
  },
  {
   "cell_type": "code",
   "execution_count": 14,
   "id": "0e2ebdb3-658f-4f77-b30d-4cc993d4b371",
   "metadata": {},
   "outputs": [
    {
     "data": {
      "text/plain": [
       "torch.utils.data.dataset.TensorDataset"
      ]
     },
     "execution_count": 14,
     "metadata": {},
     "output_type": "execute_result"
    }
   ],
   "source": [
    "type(dataset)"
   ]
  },
  {
   "cell_type": "code",
   "execution_count": 22,
   "id": "303adf6a-4900-4192-be7f-8168a31a3cdd",
   "metadata": {},
   "outputs": [
    {
     "data": {
      "text/plain": [
       "tuple"
      ]
     },
     "execution_count": 22,
     "metadata": {},
     "output_type": "execute_result"
    }
   ],
   "source": [
    "type(dataset[slice(None, 100, None)])"
   ]
  },
  {
   "cell_type": "code",
   "execution_count": 15,
   "id": "73040a42-3e2b-48f2-964f-23b03d0ed7f9",
   "metadata": {},
   "outputs": [],
   "source": [
    "subdataset = dataset[:1000]"
   ]
  },
  {
   "cell_type": "code",
   "execution_count": 16,
   "id": "01431d45-4166-40af-9c23-8c7397d70bce",
   "metadata": {},
   "outputs": [],
   "source": [
    "import torch"
   ]
  },
  {
   "cell_type": "code",
   "execution_count": 40,
   "id": "74792f2f-74bc-4b29-bd04-eb17d27e2cd8",
   "metadata": {},
   "outputs": [],
   "source": [
    "def _collate_fn(batch):\n",
    "    # print(type(batch))\n",
    "    # print(batch[i].shape for i in range(len(batch)))\n",
    "    \n",
    "    return batch"
   ]
  },
  {
   "cell_type": "code",
   "execution_count": 42,
   "id": "c5e20ddd-4350-475f-a70a-1d28587555fa",
   "metadata": {},
   "outputs": [
    {
     "name": "stdout",
     "output_type": "stream",
     "text": [
      "<class 'list'>\n",
      "128\n"
     ]
    }
   ],
   "source": [
    "loader = torch.utils.data.DataLoader(dataset, batch_size=128, collate_fn=_collate_fn)\n",
    "\n",
    "for batch in loader:\n",
    "    print(type(batch))\n",
    "    print(len(batch))\n",
    "    break\n",
    "    # break"
   ]
  },
  {
   "cell_type": "code",
   "execution_count": null,
   "id": "09aafc22-93ce-43f0-a6ff-715648dc4d5c",
   "metadata": {},
   "outputs": [],
   "source": []
  },
  {
   "cell_type": "code",
   "execution_count": 32,
   "id": "20147b53-ca7c-467c-bd82-d08ca41b70b8",
   "metadata": {},
   "outputs": [
    {
     "name": "stdout",
     "output_type": "stream",
     "text": [
      "torch.Size([256, 365, 2]) torch.Size([256, 1])\n",
      "torch.Size([256, 365, 2]) torch.Size([256, 1])\n",
      "torch.Size([256, 365, 2]) torch.Size([256, 1])\n",
      "torch.Size([256, 365, 2]) torch.Size([256, 1])\n",
      "torch.Size([256, 365, 2]) torch.Size([256, 1])\n",
      "torch.Size([256, 365, 2]) torch.Size([256, 1])\n",
      "torch.Size([256, 365, 2]) torch.Size([256, 1])\n",
      "torch.Size([256, 365, 2]) torch.Size([256, 1])\n",
      "torch.Size([256, 365, 2]) torch.Size([256, 1])\n",
      "torch.Size([256, 365, 2]) torch.Size([256, 1])\n",
      "torch.Size([256, 365, 2]) torch.Size([256, 1])\n",
      "torch.Size([256, 365, 2]) torch.Size([256, 1])\n",
      "torch.Size([256, 365, 2]) torch.Size([256, 1])\n",
      "torch.Size([256, 365, 2]) torch.Size([256, 1])\n",
      "torch.Size([256, 365, 2]) torch.Size([256, 1])\n",
      "torch.Size([256, 365, 2]) torch.Size([256, 1])\n",
      "torch.Size([256, 365, 2]) torch.Size([256, 1])\n",
      "torch.Size([256, 365, 2]) torch.Size([256, 1])\n",
      "torch.Size([256, 365, 2]) torch.Size([256, 1])\n",
      "torch.Size([256, 365, 2]) torch.Size([256, 1])\n",
      "torch.Size([256, 365, 2]) torch.Size([256, 1])\n",
      "torch.Size([256, 365, 2]) torch.Size([256, 1])\n",
      "torch.Size([256, 365, 2]) torch.Size([256, 1])\n",
      "torch.Size([256, 365, 2]) torch.Size([256, 1])\n",
      "torch.Size([256, 365, 2]) torch.Size([256, 1])\n",
      "torch.Size([256, 365, 2]) torch.Size([256, 1])\n",
      "torch.Size([256, 365, 2]) torch.Size([256, 1])\n",
      "torch.Size([256, 365, 2]) torch.Size([256, 1])\n",
      "torch.Size([256, 365, 2]) torch.Size([256, 1])\n",
      "torch.Size([256, 365, 2]) torch.Size([256, 1])\n",
      "torch.Size([256, 365, 2]) torch.Size([256, 1])\n",
      "torch.Size([256, 365, 2]) torch.Size([256, 1])\n",
      "torch.Size([256, 365, 2]) torch.Size([256, 1])\n",
      "torch.Size([256, 365, 2]) torch.Size([256, 1])\n",
      "torch.Size([256, 365, 2]) torch.Size([256, 1])\n",
      "torch.Size([256, 365, 2]) torch.Size([256, 1])\n",
      "torch.Size([256, 365, 2]) torch.Size([256, 1])\n",
      "torch.Size([26, 365, 2]) torch.Size([26, 1])\n"
     ]
    }
   ],
   "source": [
    "from torch.utils.data import DataLoader, TensorDataset\n",
    "\n",
    "train_x = torch.rand(9498, 365, 2)     \n",
    "train_y = torch.rand(9498, 1)\n",
    "\n",
    "train_dataset = TensorDataset(train_x, train_y)\n",
    "train_dataloader = DataLoader(train_dataset, batch_size=256)\n",
    "\n",
    "for x, y in train_dataloader:\n",
    "    print (x.shape, y.shape)"
   ]
  },
  {
   "cell_type": "code",
   "execution_count": null,
   "id": "f5ba63fd-2f55-4aea-88c2-c5b95a6b3bd8",
   "metadata": {},
   "outputs": [],
   "source": []
  }
 ],
 "metadata": {
  "environment": {
   "kernel": "python3",
   "name": "pytorch-gpu.1-9.m82",
   "type": "gcloud",
   "uri": "gcr.io/deeplearning-platform-release/pytorch-gpu.1-9:m82"
  },
  "kernelspec": {
   "display_name": "Python 3",
   "language": "python",
   "name": "python3"
  },
  "language_info": {
   "codemirror_mode": {
    "name": "ipython",
    "version": 3
   },
   "file_extension": ".py",
   "mimetype": "text/x-python",
   "name": "python",
   "nbconvert_exporter": "python",
   "pygments_lexer": "ipython3",
   "version": "3.7.10"
  }
 },
 "nbformat": 4,
 "nbformat_minor": 5
}
