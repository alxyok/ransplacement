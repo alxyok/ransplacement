{
 "cells": [
  {
   "cell_type": "markdown",
   "metadata": {},
   "source": [
    "# Purpose\n",
    "This notebook demonstrates the field format, using the square duct case as an example."
   ]
  },
  {
   "cell_type": "code",
   "execution_count": null,
   "metadata": {
    "_cell_guid": "b1076dfc-b9ad-4769-8c92-a6c4dae69d19",
    "_uuid": "8f2839f25d086af736a60e9eeb907d3b93b6e0e5",
    "collapsed": true,
    "jupyter": {
     "outputs_hidden": true
    }
   },
   "outputs": [],
   "source": [
    "import numpy as np # linear algebra\n",
    "import matplotlib.pyplot as plt"
   ]
  },
  {
   "cell_type": "markdown",
   "metadata": {},
   "source": [
    "## The grid"
   ]
  },
  {
   "cell_type": "code",
   "execution_count": null,
   "metadata": {},
   "outputs": [],
   "source": [
    "y  = np.load('/kaggle/input/ml-turbulence-dataset/kepsilonphitf/kepsilonphitf_DUCT_1100_Cy.npy')\n",
    "z  = np.load('/kaggle/input/ml-turbulence-dataset/kepsilonphitf/kepsilonphitf_DUCT_1100_Cz.npy')\n",
    "wd = np.load('/kaggle/input/ml-turbulence-dataset/kepsilonphitf/kepsilonphitf_DUCT_1100_wallDistance.npy')\n",
    "uu = np.load('/kaggle/input/ml-turbulence-dataset/labels/DUCT_1100_uu.npy')\n",
    "vv = np.load('/kaggle/input/ml-turbulence-dataset/labels/DUCT_1100_vv.npy')\n",
    "ww = np.load('/kaggle/input/ml-turbulence-dataset/labels/DUCT_1100_ww.npy')\n",
    "\n",
    "plt.figure(figsize=(10,10))\n",
    "plt.scatter(z,y,color='k')\n",
    "plt.xlabel('z')\n",
    "plt.ylabel('y')"
   ]
  },
  {
   "cell_type": "markdown",
   "metadata": {},
   "source": [
    "## The fields\n",
    "Shown here are the DNS Reynolds normal stresses, interpolated onto the grid."
   ]
  },
  {
   "cell_type": "code",
   "execution_count": null,
   "metadata": {},
   "outputs": [],
   "source": [
    "from matplotlib import cm\n",
    "fig = plt.figure(figsize=(30,10))\n",
    "ax = fig.add_subplot(1,3,1,projection='3d')\n",
    "surf = ax.plot_trisurf(z, y, uu, cmap=cm.coolwarm,\n",
    "                       linewidth=0, antialiased=False)\n",
    "ax.set_title('uu')\n",
    "\n",
    "ax = fig.add_subplot(1,3,2,projection='3d')\n",
    "surf = ax.plot_trisurf(z, y, vv, cmap=cm.coolwarm,\n",
    "                       linewidth=0, antialiased=False)\n",
    "ax.set_title('vv')\n",
    "\n",
    "ax = fig.add_subplot(1,3,3,projection='3d')\n",
    "surf = ax.plot_trisurf(z, y, ww, cmap=cm.coolwarm,\n",
    "                       linewidth=0, antialiased=False)\n",
    "ax.set_title('ww')"
   ]
  },
  {
   "cell_type": "markdown",
   "metadata": {},
   "source": [
    "## Wall distance"
   ]
  },
  {
   "cell_type": "code",
   "execution_count": null,
   "metadata": {},
   "outputs": [],
   "source": [
    "fig = plt.figure(figsize=(10,10))\n",
    "ax = fig.add_subplot(projection='3d')\n",
    "surf = ax.plot_trisurf(z, y, wd, cmap=cm.coolwarm,\n",
    "                       linewidth=0, antialiased=False)\n",
    "ax.set_title('Wall distance')"
   ]
  },
  {
   "cell_type": "markdown",
   "metadata": {},
   "source": [
    "## Sampling the data along a line"
   ]
  },
  {
   "cell_type": "code",
   "execution_count": null,
   "metadata": {},
   "outputs": [],
   "source": [
    "plt.figure(figsize=(10,10))\n",
    "plt.scatter(z,y,color='k')\n",
    "plt.xlabel('z')\n",
    "plt.ylabel('y')\n",
    "\n",
    "ys1 = np.arange(min(z),0,0.01)\n",
    "zs1 = -0.4*np.ones(ys1.shape)\n",
    "\n",
    "ys2 = np.arange(min(z),0,0.01)\n",
    "zs2 = -0.3*np.ones(ys1.shape)\n",
    "\n",
    "ys3 = np.arange(min(z),0,0.01)\n",
    "zs3 = -0.2*np.ones(ys1.shape)\n",
    "\n",
    "plt.scatter(zs1,ys1,color='r')\n",
    "plt.scatter(zs2,ys2,color='r')\n",
    "plt.scatter(zs3,ys3,color='r')\n"
   ]
  },
  {
   "cell_type": "code",
   "execution_count": null,
   "metadata": {},
   "outputs": [],
   "source": [
    "from scipy.interpolate import griddata\n",
    "\n",
    "uu1 = griddata((z,y),uu,(zs1,ys1))\n",
    "uu2 = griddata((z,y),uu,(zs2,ys2))\n",
    "uu3 = griddata((z,y),uu,(zs3,ys3))\n",
    "\n",
    "plt.figure(figsize=(10,10))\n",
    "plt.plot(ys1,uu1,label='z=0.4')\n",
    "plt.plot(ys2,uu2,label='z=0.3')\n",
    "plt.plot(ys3,uu3,label='z=0.2')\n",
    "plt.xlabel('y')\n",
    "plt.ylabel('uu')\n",
    "plt.legend()"
   ]
  },
  {
   "cell_type": "code",
   "execution_count": null,
   "metadata": {},
   "outputs": [],
   "source": [
    "wd1 = griddata((z,y),wd,(zs1,ys1))\n",
    "wd2 = griddata((z,y),wd,(zs2,ys2))\n",
    "wd3 = griddata((z,y),wd,(zs3,ys3))\n",
    "\n",
    "plt.figure(figsize=(10,10))\n",
    "plt.plot(ys1,wd1,label='z=0.4')\n",
    "plt.plot(ys2,wd2,label='z=0.3')\n",
    "plt.plot(ys3,wd3,label='z=0.2')\n",
    "plt.xlabel('y')\n",
    "plt.ylabel('Wall distance')\n",
    "plt.legend()"
   ]
  }
 ],
 "metadata": {
  "environment": {
   "kernel": "python3",
   "name": "pytorch-gpu.1-9.m82",
   "type": "gcloud",
   "uri": "gcr.io/deeplearning-platform-release/pytorch-gpu.1-9:m82"
  },
  "kernelspec": {
   "display_name": "Python 3",
   "language": "python",
   "name": "python3"
  },
  "language_info": {
   "codemirror_mode": {
    "name": "ipython",
    "version": 3
   },
   "file_extension": ".py",
   "mimetype": "text/x-python",
   "name": "python",
   "nbconvert_exporter": "python",
   "pygments_lexer": "ipython3",
   "version": "3.7.10"
  }
 },
 "nbformat": 4,
 "nbformat_minor": 4
}
