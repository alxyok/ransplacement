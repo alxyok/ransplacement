{
 "cells": [
  {
   "cell_type": "code",
   "execution_count": 1,
   "id": "f8bd140c-1b18-40d6-8542-339ed0facdd0",
   "metadata": {},
   "outputs": [
    {
     "data": {
      "text/plain": [
       "'2.4.3'"
      ]
     },
     "execution_count": 1,
     "metadata": {},
     "output_type": "execute_result"
    }
   ],
   "source": [
    "import metaflow\n",
    "metaflow.__version__"
   ]
  },
  {
   "cell_type": "code",
   "execution_count": 2,
   "id": "b96169c1-1c6a-4bd1-99c2-310be11acb69",
   "metadata": {},
   "outputs": [
    {
     "data": {
      "text/plain": [
       "'1.19.5'"
      ]
     },
     "execution_count": 2,
     "metadata": {},
     "output_type": "execute_result"
    }
   ],
   "source": [
    "import numpy as np\n",
    "np.__version__"
   ]
  },
  {
   "cell_type": "code",
   "execution_count": 3,
   "id": "7a30fe53-cfde-49ed-9e6c-b1032c34d693",
   "metadata": {},
   "outputs": [],
   "source": [
    "import config\n",
    "import os"
   ]
  },
  {
   "cell_type": "code",
   "execution_count": 4,
   "id": "d7ff16e6-56ea-4ca9-8332-17fbdaa271d7",
   "metadata": {},
   "outputs": [],
   "source": [
    "npy = os.path.join(config.raw_dir, config.dataset, 'kepsilon_PHLL_case_1p2_Tensors.npy')\n",
    "h = np.load(npy)"
   ]
  },
  {
   "cell_type": "code",
   "execution_count": 5,
   "id": "117f325d-4bf6-46ce-92e3-e3a1619b8b93",
   "metadata": {},
   "outputs": [
    {
     "data": {
      "text/plain": [
       "(14751, 10, 3, 3)"
      ]
     },
     "execution_count": 5,
     "metadata": {},
     "output_type": "execute_result"
    }
   ],
   "source": [
    "h.shape"
   ]
  },
  {
   "cell_type": "code",
   "execution_count": 6,
   "id": "9865850b-c5a0-4e23-a546-1fad9d2401ef",
   "metadata": {},
   "outputs": [],
   "source": [
    "tensors = os.path.join(config.processed_dir, 'tensors.npy')\n",
    "h = np.load(tensors)"
   ]
  },
  {
   "cell_type": "code",
   "execution_count": 7,
   "id": "d7c04180-ffaa-4c98-becb-cfabad13ef4c",
   "metadata": {},
   "outputs": [
    {
     "data": {
      "text/plain": [
       "(791490, 10, 3, 3)"
      ]
     },
     "execution_count": 7,
     "metadata": {},
     "output_type": "execute_result"
    }
   ],
   "source": [
    "h.shape"
   ]
  },
  {
   "cell_type": "code",
   "execution_count": 8,
   "id": "15ff660f-c844-4cce-9115-cede4f089ab8",
   "metadata": {},
   "outputs": [],
   "source": [
    "import torch"
   ]
  },
  {
   "cell_type": "code",
   "execution_count": 9,
   "id": "5da50b62-0e2b-4667-bb6b-3a7e722235bb",
   "metadata": {},
   "outputs": [
    {
     "data": {
      "text/plain": [
       "'1.9.0'"
      ]
     },
     "execution_count": 9,
     "metadata": {},
     "output_type": "execute_result"
    }
   ],
   "source": [
    "torch.__version__"
   ]
  },
  {
   "cell_type": "code",
   "execution_count": 10,
   "id": "06f19565-2240-4afb-93e6-10aec84a3ee2",
   "metadata": {},
   "outputs": [],
   "source": [
    "import data\n",
    "\n",
    "dataset = data.Dataset()"
   ]
  },
  {
   "cell_type": "code",
   "execution_count": 11,
   "id": "baf3364f-fd2a-4e06-8e85-8b47ceba472c",
   "metadata": {},
   "outputs": [],
   "source": [
    "dataloader = torch.utils.data.DataLoader(dataset, batch_size=128, shuffle=True)"
   ]
  },
  {
   "cell_type": "code",
   "execution_count": 12,
   "id": "6e41d965-94a5-4e96-9c9f-d88254ef1ae0",
   "metadata": {},
   "outputs": [
    {
     "name": "stdout",
     "output_type": "stream",
     "text": [
      "torch.Size([128, 47])\n"
     ]
    }
   ],
   "source": [
    "for data in dataloader:\n",
    "    tensors, invariants, labels = data\n",
    "    print(invariants.shape)\n",
    "    break"
   ]
  },
  {
   "cell_type": "code",
   "execution_count": null,
   "id": "fd6d821f-f514-45d2-8131-abd019889779",
   "metadata": {},
   "outputs": [],
   "source": [
    "from torch import nn\n",
    "\n",
    "dtype = torch.double\n",
    "\n",
    "class Model(torch.nn.Module):\n",
    "    def __init__(self):\n",
    "        super().__init__()\n",
    "        self.in_ = nn.Linear(47, 20, dtype=dtype)\n",
    "        self.hidden0 = nn.Linear(20, 20, dtype=dtype)\n",
    "        self.hidden1 = nn.Linear(20, 20, dtype=dtype)\n",
    "        self.hidden2 = nn.Linear(20, 20, dtype=dtype)\n",
    "        self.hidden3 = nn.Linear(20, 10, dtype=dtype)\n",
    "        \n",
    "        self.selu = nn.SELU()\n",
    "    \n",
    "    def forward(self, x):\n",
    "        tensors, invariants = x\n",
    "        out = self.in_(invariants)\n",
    "        out = self.selu(out)\n",
    "        out = self.hidden0(out)\n",
    "        out = self.selu(out)\n",
    "        out = self.hidden1(out)\n",
    "        out = self.selu(out)\n",
    "        out = self.hidden2(out)\n",
    "        out = self.selu(out)\n",
    "        out = self.hidden3(out)\n",
    "        out = self.selu(out)\n",
    "        out = out.reshape((-1, 10, 1, 1))\n",
    "        out = out.broadcast_to((out.shape[0], 10, 3, 3))\n",
    "        print(out.shape)\n",
    "        print(tensors.shape)\n",
    "        out = out * tensors\n",
    "        print(out.shape)\n",
    "        out = out.reshape((-1, 1))\n",
    "        print(out.shape)\n",
    "        \n",
    "model = Model()"
   ]
  },
  {
   "cell_type": "code",
   "execution_count": null,
   "id": "92f28769-d81e-46a3-884c-d864928cb53f",
   "metadata": {},
   "outputs": [],
   "source": [
    "for data in dataloader:\n",
    "    invariants, tensors, labels = data\n",
    "    model((invariants, tensors))\n",
    "    break"
   ]
  },
  {
   "cell_type": "code",
   "execution_count": 13,
   "id": "acbcef38-45cd-4ed0-898f-06e63329844b",
   "metadata": {},
   "outputs": [],
   "source": [
    "from torch import nn\n",
    "model = nn.Sequential(\n",
    "    nn.Linear(47, 20),\n",
    "    nn.Linear(20, 20),\n",
    "    nn.Linear(20, 20),\n",
    "    nn.Linear(20, 20),\n",
    "    nn.Linear(20, 10),\n",
    ")"
   ]
  },
  {
   "cell_type": "code",
   "execution_count": null,
   "id": "a87cc9bd-6ad9-4c86-8ad2-dc3450c68844",
   "metadata": {},
   "outputs": [],
   "source": [
    "\n",
    "    nn.Linear(4, 20, dtype=dtype),\n",
    "    nn.Tanh(),\n",
    "    nn.Linear(20, 20, dtype=dtype),\n",
    "    nn.Tanh(),\n",
    "    nn.Linear(20, 20, dtype=dtype),\n",
    "    nn.Tanh(),\n",
    "    nn.Linear(20, 20, dtype=dtype),\n",
    "    nn.Tanh(),\n",
    "    nn.Linear(20, 3, dtype=dtype),"
   ]
  },
  {
   "cell_type": "code",
   "execution_count": null,
   "id": "07d6248d-673b-44ff-92cf-b99a53115a8e",
   "metadata": {},
   "outputs": [],
   "source": [
    "epochs = 100\n",
    "\n",
    "for epoch in epochs:\n",
    "    "
   ]
  },
  {
   "cell_type": "code",
   "execution_count": null,
   "id": "e868db93-eb65-4d19-8544-4e15582b2140",
   "metadata": {},
   "outputs": [],
   "source": [
    "import tensorflow as tf\n",
    "from tensorflow import keras\n",
    "keras.backend.clear_session()\n",
    "\n",
    "#The model has two inputs, a set of input features with a learned mapping, and the tensor basis layer\n",
    "input_layer = keras.layers.Input(shape=(input_shape),name ='input_layer')\n",
    "input_tensor_basis = keras.layers.Input(shape=(10,3,3),name='Tensor_input_layer')\n",
    "\n",
    "#Hidden layer definition\n",
    "hidden1 = keras.layers.Dense(20,name='Hidden1', kernel_initializer=\"lecun_normal\",kernel_regularizer=tf.keras.regularizers.l2(1E-3), activation = \"selu\")(input_layer)\n",
    "hidden2 = keras.layers.Dense(20,name='Hidden2', kernel_initializer=\"lecun_normal\",kernel_regularizer=tf.keras.regularizers.l2(1E-3), activation = \"selu\")(hidden1)\n",
    "hidden3 = keras.layers.Dense(20,name='Hidden3', kernel_initializer=\"lecun_normal\",kernel_regularizer=tf.keras.regularizers.l2(1E-3), activation = \"selu\")(hidden2)\n",
    "\n",
    "#The layer of gn, which are coefficients for each of the ten Tn\n",
    "gn = keras.layers.Dense(10,name='gn', kernel_initializer=\"lecun_normal\",kernel_regularizer=tf.keras.regularizers.l2(1E-4), activation = \"selu\")(hidden3)\n",
    "\n",
    "#Multiply the gn by Tn, with the output being the anisotropy tensor\n",
    "shaped = keras.layers.Reshape((10,1,1),name='Shape_for_dot_product')(gn)\n",
    "merge = keras.layers.Dot(axes=1, name='Dot_product')([shaped,input_tensor_basis])\n",
    "\n",
    "#Reshape the output anisotropy tensor, and trim out duplicate values (it is a symmetric matrix). The end result is a 6 component vector.\n",
    "shaped_output = keras.layers.Reshape((9,1),name='Shaped_output')(merge)\n",
    "trimmed_output1 = keras.layers.Lambda(lambda x : x[:,0])(shaped_output)\n",
    "trimmed_output2 = keras.layers.Lambda(lambda x : x[:,1])(shaped_output)\n",
    "trimmed_output3 = keras.layers.Lambda(lambda x : x[:,2])(shaped_output)\n",
    "trimmed_output4 = keras.layers.Lambda(lambda x : x[:,4])(shaped_output)\n",
    "trimmed_output5 = keras.layers.Lambda(lambda x : x[:,5])(shaped_output)\n",
    "trimmed_output6 = keras.layers.Lambda(lambda x : x[:,8])(shaped_output)\n",
    "merged_output = tf.keras.layers.Concatenate()([trimmed_output1,trimmed_output2,trimmed_output3,trimmed_output4,trimmed_output5,trimmed_output6])\n",
    "\n",
    "\n",
    "model=keras.Model(inputs=[input_layer, input_tensor_basis], outputs=[merged_output])\n",
    "\n",
    "\n",
    "optimizer = tf.keras.optimizers.Nadam(learning_rate = 5E-4, clipnorm=1000)\n",
    "model.compile(optimizer,loss='mse',metrics=['mae', 'mse'])\n",
    "print(model.summary())\n"
   ]
  }
 ],
 "metadata": {
  "environment": {
   "kernel": "python3",
   "name": "pytorch-gpu.1-9.m82",
   "type": "gcloud",
   "uri": "gcr.io/deeplearning-platform-release/pytorch-gpu.1-9:m82"
  },
  "kernelspec": {
   "display_name": "Python 3",
   "language": "python",
   "name": "python3"
  },
  "language_info": {
   "codemirror_mode": {
    "name": "ipython",
    "version": 3
   },
   "file_extension": ".py",
   "mimetype": "text/x-python",
   "name": "python",
   "nbconvert_exporter": "python",
   "pygments_lexer": "ipython3",
   "version": "3.7.10"
  }
 },
 "nbformat": 4,
 "nbformat_minor": 5
}
